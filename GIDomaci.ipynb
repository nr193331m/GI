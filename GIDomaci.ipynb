{
 "cells": [
  {
   "cell_type": "code",
   "execution_count": 2,
   "metadata": {},
   "outputs": [],
   "source": [
    "import pysam"
   ]
  },
  {
   "cell_type": "code",
   "execution_count": 28,
   "metadata": {},
   "outputs": [],
   "source": [
    "file = pysam.AlignmentFile(\"merged-tumor.bam\", \"rb\")"
   ]
  },
  {
   "cell_type": "code",
   "execution_count": 18,
   "metadata": {},
   "outputs": [
    {
     "name": "stdout",
     "output_type": "stream",
     "text": [
      "C0HVYACXX120402:7:1207:5722:57044\t1187\t20\t9483248\t27\t76M\t20\t9483381\t76\tTTTTCAAACAGTATCTATGCCTGCCAAATGTGAACATATAAAAAAAAACCAGAATGTGCCATTCTGATTTAAACTG\tarray('B', [28, 28, 27, 29, 31, 30, 31, 31, 29, 31, 35, 30, 29, 31, 34, 30, 29, 23, 41, 32, 20, 30, 29, 34, 34, 29, 30, 31, 30, 30, 30, 33, 33, 26, 39, 12, 25, 19, 32, 30, 35, 28, 35, 33, 23, 33, 35, 36, 30, 38, 33, 41, 34, 35, 31, 33, 23, 30, 30, 36, 27, 32, 29, 34, 35, 41, 33, 31, 33, 29, 32, 32, 31, 31, 31, 34])\t[('XA', 'GL000217.1,-110754,76M,1;'), ('BD', 'NNNNNNNNNNNNNNNNNNNNNNNNNNNNNNNNNNNNNNNNNNNNNNNNNNNNNNNNNNNNNNNNNNNNNNNNNNNN'), ('MD', '76'), ('RG', '1'), ('BI', 'NNNNNNNNNNNNNNNNNNNNNNNNNNNNNNNNNNNNNNNNNNNNNNNNNNNNNNNNNNNNNNNNNNNNNNNNNNNN'), ('NM', 0), ('MQ', 27), ('AS', 76), ('XS', 71)]\n"
     ]
    }
   ],
   "source": [
    "for read in file.head(1):\n",
    "    read1 = read\n",
    "    \n",
    "print(read1)"
   ]
  },
  {
   "cell_type": "code",
   "execution_count": 7,
   "metadata": {},
   "outputs": [
    {
     "data": {
      "text/plain": [
       "1187"
      ]
     },
     "execution_count": 7,
     "metadata": {},
     "output_type": "execute_result"
    }
   ],
   "source": [
    "read1.flag"
   ]
  },
  {
   "cell_type": "markdown",
   "metadata": {},
   "source": [
    "Looking at SAM flag, we get the next summary:\n",
    "    <br><b>\n",
    "    -read paired (0x1)\n",
    "    <br>\n",
    "    -read mapped in proper pair (0x2)\n",
    "    <br>\n",
    "    -mate reverse strand (0x20)\n",
    "    <br>\n",
    "    -second in pair (0x80)\n",
    "    <br>\n",
    "    -read is PCR or optical duplicate (0x400)"
   ]
  },
  {
   "cell_type": "code",
   "execution_count": 11,
   "metadata": {},
   "outputs": [
    {
     "name": "stdout",
     "output_type": "stream",
     "text": [
      "Number of unmapped reads is 17765\n"
     ]
    }
   ],
   "source": [
    "count_unmapped = 0\n",
    "for read in file.fetch(until_eof=True):\n",
    "    if read.is_unmapped:\n",
    "        count_unmapped += 1\n",
    "        \n",
    "print('Number of unmapped reads is ' + str(count_unmapped))"
   ]
  },
  {
   "cell_type": "code",
   "execution_count": 16,
   "metadata": {},
   "outputs": [
    {
     "name": "stdout",
     "output_type": "stream",
     "text": [
      "Total number of reads is 2921629\n"
     ]
    }
   ],
   "source": [
    "count_reads = 0\n",
    "for read in file.fetch(until_eof=True):\n",
    "    count_reads += 1\n",
    "    \n",
    "print('Total number of reads is ' + str(count_reads))"
   ]
  },
  {
   "cell_type": "code",
   "execution_count": 20,
   "metadata": {},
   "outputs": [
    {
     "name": "stdout",
     "output_type": "stream",
     "text": [
      "Number of reads with mapping quality 0 is 126628\n"
     ]
    }
   ],
   "source": [
    "count_map_quality_zero = 0\n",
    "for read in file.fetch(until_eof=True):\n",
    "    if read.mapping_quality==0:\n",
    "        count_map_quality_zero += 1\n",
    "        \n",
    "print('Number of reads with mapping quality 0 is ' + str(count_map_quality_zero))"
   ]
  },
  {
   "cell_type": "code",
   "execution_count": 23,
   "metadata": {},
   "outputs": [
    {
     "name": "stdout",
     "output_type": "stream",
     "text": [
      "Average mapping quality for all the reads is 55.91379158681681\n"
     ]
    }
   ],
   "source": [
    "sum_mapping_quality = 0\n",
    "for read in file.fetch(until_eof=True):\n",
    "    sum_mapping_quality += read.mapping_quality\n",
    "    \n",
    "print('Average mapping quality for all the reads is ' + str(sum_mapping_quality/count_reads))"
   ]
  },
  {
   "cell_type": "code",
   "execution_count": 29,
   "metadata": {},
   "outputs": [
    {
     "name": "stdout",
     "output_type": "stream",
     "text": [
      "Average mapping quality if reads with 0 mapping quality are filtered is 58.446975510921106\n"
     ]
    }
   ],
   "source": [
    "sum_mapping_quality = 0\n",
    "count_of_reads = 0\n",
    "for read in file.fetch(until_eof=True):\n",
    "    if(read.mapping_quality != 0):\n",
    "        sum_mapping_quality += read.mapping_quality\n",
    "        count_of_reads += 1\n",
    "        \n",
    "print('Average mapping quality if reads with 0 mapping quality are filtered is ' +str(sum_mapping_quality/count_of_reads))"
   ]
  },
  {
   "cell_type": "code",
   "execution_count": 30,
   "metadata": {},
   "outputs": [],
   "source": [
    "file.close()"
   ]
  },
  {
   "cell_type": "code",
   "execution_count": null,
   "metadata": {},
   "outputs": [],
   "source": []
  }
 ],
 "metadata": {
  "kernelspec": {
   "display_name": "Python 3",
   "language": "python",
   "name": "python3"
  },
  "language_info": {
   "codemirror_mode": {
    "name": "ipython",
    "version": 3
   },
   "file_extension": ".py",
   "mimetype": "text/x-python",
   "name": "python",
   "nbconvert_exporter": "python",
   "pygments_lexer": "ipython3",
   "version": "3.6.10"
  }
 },
 "nbformat": 4,
 "nbformat_minor": 4
}
